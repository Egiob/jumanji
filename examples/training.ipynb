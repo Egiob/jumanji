{
 "cells": [
  {
   "cell_type": "code",
   "execution_count": 1,
   "metadata": {
    "collapsed": true,
    "jupyter": {
     "outputs_hidden": true
    }
   },
   "outputs": [
    {
     "name": "stdout",
     "output_type": "stream",
     "text": [
      "Note: you may need to restart the kernel to use updated packages.\n"
     ]
    }
   ],
   "source": [
    "%pip install --quiet -U pip -r ../requirements/requirements-training.txt ../."
   ]
  },
  {
   "cell_type": "code",
   "execution_count": 6,
   "metadata": {
    "tags": []
   },
   "outputs": [
    {
     "name": "stdout",
     "output_type": "stream",
     "text": [
      "env: NEPTUNE_API_TOKEN=\"eyJhcGlfYWRkcmVzcyI6Imh0dHBzOi8vYXBwLm5lcHR1bmUuYWkiLCJhcGlfdXJsIjoiaHR0cHM6Ly9hcHAubmVwdHVuZS5haSIsImFwaV9rZXkiOiI0MzhhODkxNy02MjM0LTQ2OGEtOWM0Mi1jN2Y0MTg1MGUyNmYifQ==\"\n"
     ]
    }
   ],
   "source": [
    "%env NEPTUNE_API_TOKEN=\"eyJhcGlfYWRkcmVzcyI6Imh0dHBzOi8vYXBwLm5lcHR1bmUuYWkiLCJhcGlfdXJsIjoiaHR0cHM6Ly9hcHAubmVwdHVuZS5haSIsImFwaV9rZXkiOiI0MzhhODkxNy02MjM0LTQ2OGEtOWM0Mi1jN2Y0MTg1MGUyNmYifQ==\"                  "
   ]
  },
  {
   "cell_type": "code",
   "execution_count": 20,
   "metadata": {
    "collapsed": false,
    "jupyter": {
     "outputs_hidden": false
    }
   },
   "outputs": [],
   "source": [
    "import warnings\n",
    "warnings.filterwarnings(\"ignore\")\n",
    "\n",
    "from jumanji.training.train import train\n",
    "from hydra import compose, initialize"
   ]
  },
  {
   "cell_type": "code",
   "execution_count": 21,
   "metadata": {
    "collapsed": false,
    "jupyter": {
     "outputs_hidden": false
    }
   },
   "outputs": [],
   "source": [
    "env = \"sudoku\"  # @param ['bin_pack', 'cleaner', 'connector', 'cvrp', 'game_2048', 'job_shop', 'knapsack', 'maze', 'minesweeper', 'rubiks_cube', 'snake', 'sudoku', 'tsp']\n",
    "agent = \"a2c\"  # @param ['random', 'a2c']"
   ]
  },
  {
   "cell_type": "code",
   "execution_count": 22,
   "metadata": {
    "collapsed": false,
    "jupyter": {
     "outputs_hidden": false
    }
   },
   "outputs": [
    {
     "data": {
      "text/plain": [
       "{'agent': 'a2c', 'seed': 0, 'logger': {'type': 'terminal', 'save_checkpoint': True, 'name': '${agent}_${env.name}'}, 'env': {'name': 'sudoku', 'registered_version': 'Sudoku-very-easy-v0', 'network': {'key_size': 64, 'num_heads': 4, 'policy_layers': [64], 'value_layers': [64]}, 'training': {'num_epochs': 100, 'num_learner_steps_per_epoch': 500, 'n_steps': 20, 'total_batch_size': 128}, 'evaluation': {'eval_total_batch_size': 200, 'greedy_eval_total_batch_size': 200}, 'a2c': {'normalize_advantage': False, 'discount_factor': 0.997, 'bootstrapping_factor': 0.95, 'l_pg': 1.0, 'l_td': 1.0, 'l_en': 0.01, 'learning_rate': 0.0004}}}"
      ]
     },
     "execution_count": 22,
     "metadata": {},
     "output_type": "execute_result"
    }
   ],
   "source": [
    "with initialize(version_base=None, config_path=\"../jumanji/training/configs\"):\n",
    "    cfg = compose(config_name=\"config.yaml\", overrides=[f\"env={env}\", f\"agent={agent}\", \"logger.type=terminal\", \"logger.save_checkpoint=true\"])\n",
    "cfg"
   ]
  },
  {
   "cell_type": "code",
   "execution_count": null,
   "metadata": {},
   "outputs": [
    {
     "name": "stderr",
     "output_type": "stream",
     "text": [
      "INFO:root:agent: a2c\n",
      "seed: 0\n",
      "logger:\n",
      "  type: terminal\n",
      "  save_checkpoint: true\n",
      "  name: ${agent}_${env.name}\n",
      "env:\n",
      "  name: sudoku\n",
      "  registered_version: Sudoku-very-easy-v0\n",
      "  network:\n",
      "    key_size: 64\n",
      "    num_heads: 4\n",
      "    policy_layers:\n",
      "    - 64\n",
      "    value_layers:\n",
      "    - 64\n",
      "  training:\n",
      "    num_epochs: 100\n",
      "    num_learner_steps_per_epoch: 500\n",
      "    n_steps: 20\n",
      "    total_batch_size: 128\n",
      "  evaluation:\n",
      "    eval_total_batch_size: 200\n",
      "    greedy_eval_total_batch_size: 200\n",
      "  a2c:\n",
      "    normalize_advantage: false\n",
      "    discount_factor: 0.997\n",
      "    bootstrapping_factor: 0.95\n",
      "    l_pg: 1.0\n",
      "    l_td: 1.0\n",
      "    l_en: 0.01\n",
      "    learning_rate: 0.0004\n",
      "\n",
      "INFO:root:{'devices': [CpuDevice(id=0)]}\n",
      "INFO:root:Experiment: a2c_sudoku.\n",
      "INFO:root:Starting logger.\n",
      "INFO:root:Eval Stochastic >> Env Steps: 0.00e+00 | Episode Length: 14.505 | Episode Return: 0.540 | Time: 2.186\n",
      "INFO:root:Eval Greedy >> Env Steps: 0.00e+00 | Episode Length: 15.515 | Episode Return: 0.510 | Time: 1.904\n"
     ]
    }
   ],
   "source": [
    "train(cfg)"
   ]
  },
  {
   "cell_type": "code",
   "execution_count": null,
   "metadata": {},
   "outputs": [],
   "source": []
  }
 ],
 "metadata": {
  "kernelspec": {
   "display_name": "Python 3 (ipykernel)",
   "language": "python",
   "name": "python3"
  },
  "language_info": {
   "codemirror_mode": {
    "name": "ipython",
    "version": 3
   },
   "file_extension": ".py",
   "mimetype": "text/x-python",
   "name": "python",
   "nbconvert_exporter": "python",
   "pygments_lexer": "ipython3",
   "version": "3.10.9"
  }
 },
 "nbformat": 4,
 "nbformat_minor": 4
}
