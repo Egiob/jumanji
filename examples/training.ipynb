{
 "cells": [
  {
   "cell_type": "code",
   "execution_count": 1,
   "metadata": {
    "tags": []
   },
   "outputs": [],
   "source": [
    "# pip install -e ../"
   ]
  },
  {
   "cell_type": "code",
   "execution_count": 2,
   "metadata": {
    "tags": []
   },
   "outputs": [
    {
     "name": "stdout",
     "output_type": "stream",
     "text": [
      "env: JAX_PLATFORMS=cpu\n"
     ]
    }
   ],
   "source": [
    "%env JAX_PLATFORMS=cpu"
   ]
  },
  {
   "cell_type": "code",
   "execution_count": 9,
   "metadata": {
    "collapsed": false,
    "jupyter": {
     "outputs_hidden": false
    },
    "tags": []
   },
   "outputs": [],
   "source": [
    "import warnings\n",
    "\n",
    "warnings.filterwarnings(\"ignore\")\n",
    "\n",
    "from hydra import compose, initialize\n",
    "\n",
    "from jumanji.training.train import train"
   ]
  },
  {
   "cell_type": "code",
   "execution_count": 10,
   "metadata": {
    "collapsed": false,
    "jupyter": {
     "outputs_hidden": false
    },
    "tags": []
   },
   "outputs": [],
   "source": [
    "env = \"sudoku\"  # @param ['bin_pack', 'cleaner', 'connector', 'cvrp', 'game_2048', 'job_shop', 'knapsack', 'maze', 'minesweeper', 'rubiks_cube', 'snake', \"sudoku\", 'tsp']\n",
    "agent = \"a2c\"  # @param ['random', 'a2c']"
   ]
  },
  {
   "cell_type": "code",
   "execution_count": 11,
   "metadata": {
    "collapsed": false,
    "jupyter": {
     "outputs_hidden": false
    },
    "tags": []
   },
   "outputs": [
    {
     "data": {
      "text/plain": [
       "{'agent': 'a2c', 'seed': 0, 'logger': {'type': 'terminal', 'save_checkpoint': True, 'name': '${agent}_${env.name}'}, 'env': {'name': 'sudoku', 'registered_version': 'Sudoku-very-easy-v0', 'network': {'num_channels': 32, 'policy_layers': [64, 64], 'value_layers': [128, 128]}, 'training': {'num_epochs': 100, 'num_learner_steps_per_epoch': 500, 'n_steps': 20, 'total_batch_size': 128}, 'evaluation': {'eval_total_batch_size': 200, 'greedy_eval_total_batch_size': 200}, 'a2c': {'normalize_advantage': False, 'discount_factor': 0.997, 'bootstrapping_factor': 0.95, 'l_pg': 1.0, 'l_td': 1.0, 'l_en': 0.01, 'learning_rate': 0.0004}}}"
      ]
     },
     "execution_count": 11,
     "metadata": {},
     "output_type": "execute_result"
    }
   ],
   "source": [
    "with initialize(version_base=None, config_path=\"../jumanji/training/configs\"):\n",
    "    cfg = compose(\n",
    "        config_name=\"config.yaml\",\n",
    "        overrides=[\n",
    "            f\"env={env}\",\n",
    "            f\"agent={agent}\",\n",
    "            \"logger.type=terminal\",\n",
    "            \"logger.save_checkpoint=true\",\n",
    "        ],\n",
    "    )\n",
    "cfg"
   ]
  },
  {
   "cell_type": "code",
   "execution_count": null,
   "metadata": {
    "tags": []
   },
   "outputs": [
    {
     "name": "stderr",
     "output_type": "stream",
     "text": [
      "INFO:root:agent: a2c\n",
      "seed: 0\n",
      "logger:\n",
      "  type: terminal\n",
      "  save_checkpoint: true\n",
      "  name: ${agent}_${env.name}\n",
      "env:\n",
      "  name: sudoku\n",
      "  registered_version: Sudoku-very-easy-v0\n",
      "  network:\n",
      "    num_channels: 32\n",
      "    policy_layers:\n",
      "    - 64\n",
      "    - 64\n",
      "    value_layers:\n",
      "    - 128\n",
      "    - 128\n",
      "  training:\n",
      "    num_epochs: 100\n",
      "    num_learner_steps_per_epoch: 500\n",
      "    n_steps: 20\n",
      "    total_batch_size: 128\n",
      "  evaluation:\n",
      "    eval_total_batch_size: 200\n",
      "    greedy_eval_total_batch_size: 200\n",
      "  a2c:\n",
      "    normalize_advantage: false\n",
      "    discount_factor: 0.997\n",
      "    bootstrapping_factor: 0.95\n",
      "    l_pg: 1.0\n",
      "    l_td: 1.0\n",
      "    l_en: 0.01\n",
      "    learning_rate: 0.0004\n",
      "\n",
      "INFO:root:{'devices': [CpuDevice(id=0)]}\n",
      "INFO:root:Experiment: a2c_sudoku.\n"
     ]
    },
    {
     "name": "stdout",
     "output_type": "stream",
     "text": [
      "(9, 9)\n",
      "(9, 9)\n"
     ]
    },
    {
     "name": "stderr",
     "output_type": "stream",
     "text": [
      "INFO:root:Starting logger.\n"
     ]
    },
    {
     "name": "stdout",
     "output_type": "stream",
     "text": [
      "(9, 9)\n",
      "(9, 9)\n"
     ]
    },
    {
     "name": "stderr",
     "output_type": "stream",
     "text": [
      "INFO:root:Eval Stochastic >> Env Steps: 0.00e+00 | Episode Length: 10.660 | Episode Return: 0.000 | Time: 1.882\n"
     ]
    },
    {
     "name": "stdout",
     "output_type": "stream",
     "text": [
      "(9, 9)\n",
      "(9, 9)\n"
     ]
    },
    {
     "name": "stderr",
     "output_type": "stream",
     "text": [
      "INFO:root:Eval Greedy >> Env Steps: 0.00e+00 | Episode Length: 10.695 | Episode Return: 0.000 | Time: 1.582\n"
     ]
    },
    {
     "name": "stdout",
     "output_type": "stream",
     "text": [
      "(9, 9)\n",
      "(9, 9)\n"
     ]
    },
    {
     "name": "stderr",
     "output_type": "stream",
     "text": [
      "2023-04-27 19:43:08.152712: E external/org_tensorflow/tensorflow/compiler/xla/service/slow_operation_alarm.cc:65] Constant folding an instruction is taking > 1s:\n",
      "\n",
      "  pad.62 (displaying the full instruction incurs a runtime overhead. Raise your logging level to 4 or above).\n",
      "\n",
      "This isn't necessarily a bug; constant-folding is inherently a trade-off between compilation time and speed at runtime.  XLA has some guards that attempt to keep constant folding from taking too long, but fundamentally you'll always be able to come up with an input program that takes a long time.\n",
      "\n",
      "If you'd like to file a bug, run with envvar XLA_FLAGS=--xla_dump_to=/tmp/foo and attach the results.\n",
      "2023-04-27 19:43:08.153041: E external/org_tensorflow/tensorflow/compiler/xla/service/slow_operation_alarm.cc:133] The operation took 1.374108821s\n",
      "Constant folding an instruction is taking > 1s:\n",
      "\n",
      "  pad.62 (displaying the full instruction incurs a runtime overhead. Raise your logging level to 4 or above).\n",
      "\n",
      "This isn't necessarily a bug; constant-folding is inherently a trade-off between compilation time and speed at runtime.  XLA has some guards that attempt to keep constant folding from taking too long, but fundamentally you'll always be able to come up with an input program that takes a long time.\n",
      "\n",
      "If you'd like to file a bug, run with envvar XLA_FLAGS=--xla_dump_to=/tmp/foo and attach the results.\n",
      "INFO:root:Train >> Env Steps: 0.00e+00 | Advantage: 0.000 | Critic Loss: 0.000 | Entropy: 1.596 | Entropy Loss: -1.596 | Policy Loss: -0.000 | Steps Per Second: 4,025 | Time: 317.950 | Total Loss: -0.016 | Value: -0.000\n",
      "INFO:root:Eval Stochastic >> Env Steps: 1.28e+06 | Episode Length: 10.580 | Episode Return: 0.000 | Time: 0.068\n",
      "INFO:root:Eval Greedy >> Env Steps: 1.28e+06 | Episode Length: 10.615 | Episode Return: 0.000 | Time: 0.030\n",
      "INFO:root:Train >> Env Steps: 1.28e+06 | Advantage: -0.000 | Critic Loss: 0.000 | Entropy: 1.595 | Entropy Loss: -1.595 | Policy Loss: -0.000 | Steps Per Second: 3,807 | Time: 336.170 | Total Loss: -0.016 | Value: -0.000\n",
      "INFO:root:Eval Stochastic >> Env Steps: 2.56e+06 | Episode Length: 10.620 | Episode Return: 0.000 | Time: 0.066\n",
      "INFO:root:Eval Greedy >> Env Steps: 2.56e+06 | Episode Length: 10.700 | Episode Return: 0.000 | Time: 0.029\n",
      "INFO:root:Train >> Env Steps: 2.56e+06 | Advantage: -0.000 | Critic Loss: 0.000 | Entropy: 1.595 | Entropy Loss: -1.595 | Policy Loss: -0.000 | Steps Per Second: 4,026 | Time: 317.880 | Total Loss: -0.016 | Value: 0.000\n",
      "INFO:root:Eval Stochastic >> Env Steps: 3.84e+06 | Episode Length: 10.665 | Episode Return: 0.000 | Time: 0.066\n",
      "INFO:root:Eval Greedy >> Env Steps: 3.84e+06 | Episode Length: 10.670 | Episode Return: 0.000 | Time: 0.029\n"
     ]
    }
   ],
   "source": [
    "train(cfg)"
   ]
  },
  {
   "cell_type": "code",
   "execution_count": null,
   "metadata": {},
   "outputs": [],
   "source": []
  },
  {
   "cell_type": "code",
   "execution_count": null,
   "metadata": {},
   "outputs": [],
   "source": []
  }
 ],
 "metadata": {
  "kernelspec": {
   "display_name": "Python 3 (ipykernel)",
   "language": "python",
   "name": "python3"
  },
  "language_info": {
   "codemirror_mode": {
    "name": "ipython",
    "version": 3
   },
   "file_extension": ".py",
   "mimetype": "text/x-python",
   "name": "python",
   "nbconvert_exporter": "python",
   "pygments_lexer": "ipython3",
   "version": "3.10.9"
  }
 },
 "nbformat": 4,
 "nbformat_minor": 4
}
