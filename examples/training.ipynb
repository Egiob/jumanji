{
 "cells": [
  {
   "cell_type": "code",
   "execution_count": 1,
   "metadata": {
    "tags": []
   },
   "outputs": [],
   "source": [
    "# pip install -e ../"
   ]
  },
  {
   "cell_type": "code",
   "execution_count": 1,
   "metadata": {
    "tags": []
   },
   "outputs": [
    {
     "name": "stdout",
     "output_type": "stream",
     "text": [
      "env: JAX_PLATFORMS=cpu\n"
     ]
    }
   ],
   "source": [
    "%env JAX_PLATFORMS=cpu"
   ]
  },
  {
   "cell_type": "code",
   "execution_count": 26,
   "metadata": {
    "collapsed": false,
    "jupyter": {
     "outputs_hidden": false
    },
    "tags": []
   },
   "outputs": [],
   "source": [
    "import warnings\n",
    "\n",
    "warnings.filterwarnings(\"ignore\")\n",
    "\n",
    "from hydra import compose, initialize\n",
    "\n",
    "from jumanji.training.train import train"
   ]
  },
  {
   "cell_type": "code",
   "execution_count": 27,
   "metadata": {
    "collapsed": false,
    "jupyter": {
     "outputs_hidden": false
    },
    "tags": []
   },
   "outputs": [],
   "source": [
    "env = \"sudoku\"  # @param ['bin_pack', 'cleaner', 'connector', 'cvrp', 'game_2048', 'job_shop', 'knapsack', 'maze', 'minesweeper', 'rubiks_cube', 'snake', \"sudoku\", 'tsp']\n",
    "agent = \"a2c\"  # @param ['random', 'a2c']"
   ]
  },
  {
   "cell_type": "code",
   "execution_count": 28,
   "metadata": {
    "collapsed": false,
    "jupyter": {
     "outputs_hidden": false
    },
    "tags": []
   },
   "outputs": [
    {
     "data": {
      "text/plain": [
       "{'agent': 'a2c', 'seed': 0, 'logger': {'type': 'terminal', 'save_checkpoint': True, 'name': '${agent}_${env.name}'}, 'env': {'name': 'sudoku', 'registered_version': 'Sudoku-v0', 'network': {'num_channels': 32, 'policy_layers': [64, 64], 'value_layers': [128, 128]}, 'training': {'num_epochs': 100, 'num_learner_steps_per_epoch': 500, 'n_steps': 20, 'total_batch_size': 128}, 'evaluation': {'eval_total_batch_size': 200, 'greedy_eval_total_batch_size': 200}, 'a2c': {'normalize_advantage': False, 'discount_factor': 0.997, 'bootstrapping_factor': 0.95, 'l_pg': 1.0, 'l_td': 1.0, 'l_en': 0.01, 'learning_rate': 0.0004}}}"
      ]
     },
     "execution_count": 28,
     "metadata": {},
     "output_type": "execute_result"
    }
   ],
   "source": [
    "with initialize(version_base=None, config_path=\"../jumanji/training/configs\"):\n",
    "    cfg = compose(\n",
    "        config_name=\"config.yaml\",\n",
    "        overrides=[\n",
    "            f\"env={env}\",\n",
    "            f\"agent={agent}\",\n",
    "            \"logger.type=terminal\",\n",
    "            \"logger.save_checkpoint=true\",\n",
    "        ],\n",
    "    )\n",
    "cfg"
   ]
  },
  {
   "cell_type": "code",
   "execution_count": 29,
   "metadata": {
    "tags": []
   },
   "outputs": [
    {
     "name": "stderr",
     "output_type": "stream",
     "text": [
      "INFO:root:agent: a2c\n",
      "seed: 0\n",
      "logger:\n",
      "  type: terminal\n",
      "  save_checkpoint: true\n",
      "  name: ${agent}_${env.name}\n",
      "env:\n",
      "  name: sudoku\n",
      "  registered_version: Sudoku-v0\n",
      "  network:\n",
      "    num_channels: 32\n",
      "    policy_layers:\n",
      "    - 64\n",
      "    - 64\n",
      "    value_layers:\n",
      "    - 128\n",
      "    - 128\n",
      "  training:\n",
      "    num_epochs: 100\n",
      "    num_learner_steps_per_epoch: 500\n",
      "    n_steps: 20\n",
      "    total_batch_size: 128\n",
      "  evaluation:\n",
      "    eval_total_batch_size: 200\n",
      "    greedy_eval_total_batch_size: 200\n",
      "  a2c:\n",
      "    normalize_advantage: false\n",
      "    discount_factor: 0.997\n",
      "    bootstrapping_factor: 0.95\n",
      "    l_pg: 1.0\n",
      "    l_td: 1.0\n",
      "    l_en: 0.01\n",
      "    learning_rate: 0.0004\n",
      "\n",
      "INFO:root:{'devices': [CpuDevice(id=0)]}\n",
      "INFO:root:Experiment: a2c_sudoku.\n"
     ]
    },
    {
     "name": "stdout",
     "output_type": "stream",
     "text": [
      "board (1, 9, 9)\n",
      "embedding (1, 800)\n",
      "(1, 9, 9, 9)\n",
      "board (1, 9, 9)\n",
      "embedding (1, 800)\n",
      "(1, 9, 9, 9)\n"
     ]
    },
    {
     "name": "stderr",
     "output_type": "stream",
     "text": [
      "INFO:root:Starting logger.\n"
     ]
    },
    {
     "name": "stdout",
     "output_type": "stream",
     "text": [
      "board (1, 9, 9)\n",
      "embedding (1, 800)\n",
      "(1, 9, 9, 9)\n",
      "Traced<ShapedArray(int8[9,9,9])>with<DynamicJaxprTrace(level=2/1)>\n",
      "Traced<ShapedArray(int32[3])>with<DynamicJaxprTrace(level=2/1)>\n",
      "Traced<ShapedArray(bool[])>with<DynamicJaxprTrace(level=2/1)> Traced<ShapedArray(bool[])>with<DynamicJaxprTrace(level=2/1)> Traced<ShapedArray(bool[])>with<DynamicJaxprTrace(level=2/1)>\n"
     ]
    },
    {
     "name": "stderr",
     "output_type": "stream",
     "text": [
      "INFO:root:Eval Stochastic >> Env Steps: 0.00e+00 | Episode Length: 31.815 | Episode Return: 0.000 | Time: 1.501\n"
     ]
    },
    {
     "name": "stdout",
     "output_type": "stream",
     "text": [
      "board (1, 9, 9)\n",
      "embedding (1, 800)\n",
      "(1, 9, 9, 9)\n",
      "Traced<ShapedArray(int8[9,9,9])>with<DynamicJaxprTrace(level=2/1)>\n",
      "Traced<ShapedArray(int32[3])>with<DynamicJaxprTrace(level=2/1)>\n",
      "Traced<ShapedArray(bool[])>with<DynamicJaxprTrace(level=2/1)> Traced<ShapedArray(bool[])>with<DynamicJaxprTrace(level=2/1)> Traced<ShapedArray(bool[])>with<DynamicJaxprTrace(level=2/1)>\n"
     ]
    },
    {
     "name": "stderr",
     "output_type": "stream",
     "text": [
      "INFO:root:Eval Greedy >> Env Steps: 0.00e+00 | Episode Length: 34.000 | Episode Return: 0.000 | Time: 0.827\n"
     ]
    },
    {
     "name": "stdout",
     "output_type": "stream",
     "text": [
      "board (128, 9, 9)\n",
      "embedding (128, 800)\n",
      "(128, 9, 9, 9)\n",
      "Traced<ShapedArray(int8[9,9,9])>with<BatchTrace(level=5/1)> with\n",
      "  val = Traced<ShapedArray(int8[128,9,9,9])>with<DynamicJaxprTrace(level=4/1)>\n",
      "  batch_dim = 0\n",
      "Traced<ShapedArray(int32[3])>with<BatchTrace(level=5/1)> with\n",
      "  val = Traced<ShapedArray(int32[128,3])>with<DynamicJaxprTrace(level=4/1)>\n",
      "  batch_dim = 0\n",
      "Traced<ShapedArray(bool[])>with<BatchTrace(level=5/1)> with\n",
      "  val = Traced<ShapedArray(bool[128])>with<DynamicJaxprTrace(level=4/1)>\n",
      "  batch_dim = 0 Traced<ShapedArray(bool[])>with<BatchTrace(level=5/1)> with\n",
      "  val = Traced<ShapedArray(bool[128])>with<DynamicJaxprTrace(level=4/1)>\n",
      "  batch_dim = 0 Traced<ShapedArray(bool[])>with<BatchTrace(level=5/1)> with\n",
      "  val = Traced<ShapedArray(bool[128])>with<DynamicJaxprTrace(level=4/1)>\n",
      "  batch_dim = 0\n",
      "board (128, 9, 9)\n",
      "embedding (128, 800)\n",
      "(128, 9, 9, 9)\n"
     ]
    },
    {
     "name": "stderr",
     "output_type": "stream",
     "text": [
      "INFO:root:Train >> Env Steps: 0.00e+00 | Advantage: -0.000 | Critic Loss: 0.000 | Entropy: 3.029 | Entropy Loss: -3.029 | Policy Loss: -0.000 | Steps Per Second: 4,394 | Time: 291.278 | Total Loss: -0.030 | Value: 0.000\n",
      "INFO:root:Eval Stochastic >> Env Steps: 1.28e+06 | Episode Length: 31.475 | Episode Return: 0.000 | Time: 0.211\n",
      "INFO:root:Eval Greedy >> Env Steps: 1.28e+06 | Episode Length: 32.000 | Episode Return: 0.000 | Time: 0.001\n"
     ]
    },
    {
     "name": "stdout",
     "output_type": "stream",
     "text": [
      "board (128, 9, 9)\n",
      "embedding (128, 800)\n",
      "(128, 9, 9, 9)\n",
      "Traced<ShapedArray(int8[9,9,9])>with<BatchTrace(level=5/1)> with\n",
      "  val = Traced<ShapedArray(int8[128,9,9,9])>with<DynamicJaxprTrace(level=4/1)>\n",
      "  batch_dim = 0\n",
      "Traced<ShapedArray(int32[3])>with<BatchTrace(level=5/1)> with\n",
      "  val = Traced<ShapedArray(int32[128,3])>with<DynamicJaxprTrace(level=4/1)>\n",
      "  batch_dim = 0\n",
      "Traced<ShapedArray(bool[])>with<BatchTrace(level=5/1)> with\n",
      "  val = Traced<ShapedArray(bool[128])>with<DynamicJaxprTrace(level=4/1)>\n",
      "  batch_dim = 0 Traced<ShapedArray(bool[])>with<BatchTrace(level=5/1)> with\n",
      "  val = Traced<ShapedArray(bool[128])>with<DynamicJaxprTrace(level=4/1)>\n",
      "  batch_dim = 0 Traced<ShapedArray(bool[])>with<BatchTrace(level=5/1)> with\n",
      "  val = Traced<ShapedArray(bool[128])>with<DynamicJaxprTrace(level=4/1)>\n",
      "  batch_dim = 0\n",
      "board (128, 9, 9)\n",
      "embedding (128, 800)\n",
      "(128, 9, 9, 9)\n"
     ]
    },
    {
     "name": "stderr",
     "output_type": "stream",
     "text": [
      "INFO:root:Saving checkpoint...\n",
      "INFO:root:Checkpoint saved at 'training_state'.\n",
      "INFO:root:Closing logger...\n"
     ]
    },
    {
     "ename": "KeyboardInterrupt",
     "evalue": "",
     "output_type": "error",
     "traceback": [
      "\u001b[0;31m---------------------------------------------------------------------------\u001b[0m",
      "\u001b[0;31mKeyboardInterrupt\u001b[0m                         Traceback (most recent call last)",
      "Cell \u001b[0;32mIn[29], line 1\u001b[0m\n\u001b[0;32m----> 1\u001b[0m \u001b[43mtrain\u001b[49m\u001b[43m(\u001b[49m\u001b[43mcfg\u001b[49m\u001b[43m)\u001b[49m\n",
      "File \u001b[0;32m~/miniconda3/envs/qdaxpy310/lib/python3.10/site-packages/hydra/main.py:79\u001b[0m, in \u001b[0;36mmain.<locals>.main_decorator.<locals>.decorated_main\u001b[0;34m(cfg_passthrough)\u001b[0m\n\u001b[1;32m     76\u001b[0m \u001b[38;5;129m@functools\u001b[39m\u001b[38;5;241m.\u001b[39mwraps(task_function)\n\u001b[1;32m     77\u001b[0m \u001b[38;5;28;01mdef\u001b[39;00m \u001b[38;5;21mdecorated_main\u001b[39m(cfg_passthrough: Optional[DictConfig] \u001b[38;5;241m=\u001b[39m \u001b[38;5;28;01mNone\u001b[39;00m) \u001b[38;5;241m-\u001b[39m\u001b[38;5;241m>\u001b[39m Any:\n\u001b[1;32m     78\u001b[0m     \u001b[38;5;28;01mif\u001b[39;00m cfg_passthrough \u001b[38;5;129;01mis\u001b[39;00m \u001b[38;5;129;01mnot\u001b[39;00m \u001b[38;5;28;01mNone\u001b[39;00m:\n\u001b[0;32m---> 79\u001b[0m         \u001b[38;5;28;01mreturn\u001b[39;00m \u001b[43mtask_function\u001b[49m\u001b[43m(\u001b[49m\u001b[43mcfg_passthrough\u001b[49m\u001b[43m)\u001b[49m\n\u001b[1;32m     80\u001b[0m     \u001b[38;5;28;01melse\u001b[39;00m:\n\u001b[1;32m     81\u001b[0m         args_parser \u001b[38;5;241m=\u001b[39m get_args_parser()\n",
      "File \u001b[0;32m~/workspace/jumanji/jumanji/training/train.py:105\u001b[0m, in \u001b[0;36mtrain\u001b[0;34m(cfg, log_compiles)\u001b[0m\n\u001b[1;32m    103\u001b[0m \u001b[38;5;66;03m# Training\u001b[39;00m\n\u001b[1;32m    104\u001b[0m \u001b[38;5;28;01mwith\u001b[39;00m train_timer:\n\u001b[0;32m--> 105\u001b[0m     training_state, metrics \u001b[38;5;241m=\u001b[39m \u001b[43mepoch_fn\u001b[49m\u001b[43m(\u001b[49m\u001b[43mtraining_state\u001b[49m\u001b[43m)\u001b[49m\n\u001b[1;32m    106\u001b[0m logger\u001b[38;5;241m.\u001b[39mwrite(\n\u001b[1;32m    107\u001b[0m     data\u001b[38;5;241m=\u001b[39mutils\u001b[38;5;241m.\u001b[39mfirst_from_device(metrics),\n\u001b[1;32m    108\u001b[0m     label\u001b[38;5;241m=\u001b[39m\u001b[38;5;124m\"\u001b[39m\u001b[38;5;124mtrain\u001b[39m\u001b[38;5;124m\"\u001b[39m,\n\u001b[1;32m    109\u001b[0m     env_steps\u001b[38;5;241m=\u001b[39menv_steps,\n\u001b[1;32m    110\u001b[0m )\n",
      "    \u001b[0;31m[... skipping hidden 1 frame]\u001b[0m\n",
      "File \u001b[0;32m~/miniconda3/envs/qdaxpy310/lib/python3.10/site-packages/jax/_src/api.py:2256\u001b[0m, in \u001b[0;36m_cpp_pmap.<locals>.cache_miss\u001b[0;34m(*args, **kwargs)\u001b[0m\n\u001b[1;32m   2254\u001b[0m \u001b[38;5;28;01mif\u001b[39;00m \u001b[38;5;28misinstance\u001b[39m(top_trace, core\u001b[38;5;241m.\u001b[39mEvalTrace):\n\u001b[1;32m   2255\u001b[0m   execute \u001b[38;5;241m=\u001b[39m pxla\u001b[38;5;241m.\u001b[39mxla_pmap_impl_lazy(fun_, \u001b[38;5;241m*\u001b[39mtracers, \u001b[38;5;241m*\u001b[39m\u001b[38;5;241m*\u001b[39mparams)\n\u001b[0;32m-> 2256\u001b[0m   out \u001b[38;5;241m=\u001b[39m map_bind_continuation(\u001b[43mexecute\u001b[49m\u001b[43m(\u001b[49m\u001b[38;5;241;43m*\u001b[39;49m\u001b[43mtracers\u001b[49m\u001b[43m)\u001b[49m)\n\u001b[1;32m   2257\u001b[0m \u001b[38;5;28;01melse\u001b[39;00m:\n\u001b[1;32m   2258\u001b[0m   out \u001b[38;5;241m=\u001b[39m map_bind_continuation(\n\u001b[1;32m   2259\u001b[0m       pxla\u001b[38;5;241m.\u001b[39mxla_pmap_p\u001b[38;5;241m.\u001b[39mprocess(top_trace, fun_, tracers, params))\n",
      "File \u001b[0;32m~/miniconda3/envs/qdaxpy310/lib/python3.10/site-packages/jax/_src/profiler.py:314\u001b[0m, in \u001b[0;36mannotate_function.<locals>.wrapper\u001b[0;34m(*args, **kwargs)\u001b[0m\n\u001b[1;32m    311\u001b[0m \u001b[38;5;129m@wraps\u001b[39m(func)\n\u001b[1;32m    312\u001b[0m \u001b[38;5;28;01mdef\u001b[39;00m \u001b[38;5;21mwrapper\u001b[39m(\u001b[38;5;241m*\u001b[39margs, \u001b[38;5;241m*\u001b[39m\u001b[38;5;241m*\u001b[39mkwargs):\n\u001b[1;32m    313\u001b[0m   \u001b[38;5;28;01mwith\u001b[39;00m TraceAnnotation(name, \u001b[38;5;241m*\u001b[39m\u001b[38;5;241m*\u001b[39mdecorator_kwargs):\n\u001b[0;32m--> 314\u001b[0m     \u001b[38;5;28;01mreturn\u001b[39;00m \u001b[43mfunc\u001b[49m\u001b[43m(\u001b[49m\u001b[38;5;241;43m*\u001b[39;49m\u001b[43margs\u001b[49m\u001b[43m,\u001b[49m\u001b[43m \u001b[49m\u001b[38;5;241;43m*\u001b[39;49m\u001b[38;5;241;43m*\u001b[39;49m\u001b[43mkwargs\u001b[49m\u001b[43m)\u001b[49m\n\u001b[1;32m    315\u001b[0m   \u001b[38;5;28;01mreturn\u001b[39;00m wrapper\n",
      "File \u001b[0;32m~/miniconda3/envs/qdaxpy310/lib/python3.10/site-packages/jax/interpreters/pxla.py:2071\u001b[0m, in \u001b[0;36mExecuteReplicated.__call__\u001b[0;34m(self, *args)\u001b[0m\n\u001b[1;32m   2069\u001b[0m   out_bufs \u001b[38;5;241m=\u001b[39m \u001b[38;5;28mself\u001b[39m\u001b[38;5;241m.\u001b[39m_call_with_tokens(input_bufs)\n\u001b[1;32m   2070\u001b[0m \u001b[38;5;28;01melse\u001b[39;00m:\n\u001b[0;32m-> 2071\u001b[0m   out_bufs \u001b[38;5;241m=\u001b[39m \u001b[38;5;28;43mself\u001b[39;49m\u001b[38;5;241;43m.\u001b[39;49m\u001b[43mxla_executable\u001b[49m\u001b[38;5;241;43m.\u001b[39;49m\u001b[43mexecute_sharded_on_local_devices\u001b[49m\u001b[43m(\u001b[49m\n\u001b[1;32m   2072\u001b[0m \u001b[43m      \u001b[49m\u001b[43minput_bufs\u001b[49m\u001b[43m)\u001b[49m\n\u001b[1;32m   2073\u001b[0m \u001b[38;5;28;01mif\u001b[39;00m dispatch\u001b[38;5;241m.\u001b[39mneeds_check_special():\n\u001b[1;32m   2074\u001b[0m   \u001b[38;5;28;01mfor\u001b[39;00m bufs \u001b[38;5;129;01min\u001b[39;00m out_bufs:\n",
      "\u001b[0;31mKeyboardInterrupt\u001b[0m: "
     ]
    }
   ],
   "source": [
    "train(cfg)"
   ]
  },
  {
   "cell_type": "code",
   "execution_count": null,
   "metadata": {},
   "outputs": [],
   "source": []
  },
  {
   "cell_type": "code",
   "execution_count": null,
   "metadata": {},
   "outputs": [],
   "source": []
  }
 ],
 "metadata": {
  "kernelspec": {
   "display_name": "Python 3 (ipykernel)",
   "language": "python",
   "name": "python3"
  },
  "language_info": {
   "codemirror_mode": {
    "name": "ipython",
    "version": 3
   },
   "file_extension": ".py",
   "mimetype": "text/x-python",
   "name": "python",
   "nbconvert_exporter": "python",
   "pygments_lexer": "ipython3",
   "version": "3.10.9"
  }
 },
 "nbformat": 4,
 "nbformat_minor": 4
}
